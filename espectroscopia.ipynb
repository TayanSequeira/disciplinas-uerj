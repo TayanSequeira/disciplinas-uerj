{
  "nbformat": 4,
  "nbformat_minor": 0,
  "metadata": {
    "colab": {
      "name": "Untitled2.ipynb",
      "provenance": [],
      "authorship_tag": "ABX9TyO9F4jW2/KBFKog3bC8KIw9",
      "include_colab_link": true
    },
    "kernelspec": {
      "name": "python3",
      "display_name": "Python 3"
    }
  },
  "cells": [
    {
      "cell_type": "markdown",
      "metadata": {
        "id": "view-in-github",
        "colab_type": "text"
      },
      "source": [
        "<a href=\"https://colab.research.google.com/github/goulartsursula/disciplinas-uerj/blob/master/espectroscopia.ipynb\" target=\"_parent\"><img src=\"https://colab.research.google.com/assets/colab-badge.svg\" alt=\"Open In Colab\"/></a>"
      ]
    },
    {
      "cell_type": "code",
      "metadata": {
        "id": "wX1WO7k9LGTI",
        "outputId": "fe37c7c3-30c9-4995-ae59-84db8ffc1c76",
        "colab": {
          "base_uri": "https://localhost:8080/"
        }
      },
      "source": [
        "import numpy as np\n",
        "\n",
        "x = np.array([0.108, 0.111, 0.120, 0.129, 0.146, 0.163])\n",
        "y = np.array([4471, 4713, 4922, 5015, 5876, 6678])\n",
        "\n",
        "def lsq_sq(x, y):  \n",
        "  n = np.size(x)\n",
        "  mx, my = np.mean(x), np.mean(y)\n",
        "\n",
        "  cov = np.mean(x * y) - mx * my\n",
        "  var = np.var(x)\n",
        "\n",
        "  a = cov/var\n",
        "  b = my - a *mx\n",
        "\n",
        "  ey = np.sqrt(np.sum(np.power(y - (a * x + b),2) / (n - 2)))\n",
        "  \n",
        "  erro_a = ey / (np.sqrt(var) * np.sqrt(n))\n",
        "  erro_b = erro_a * np.sqrt(np.mean(np.power(x, 2)))\n",
        "\n",
        "  print(f'y = ({a} +- {erro_a})x +' + f'( {b} +- {erro_b})')\n",
        "  return a, erro_a, b, erro_b\n",
        "\n",
        "parametros = lsq_sq(x, y)\n",
        "\n",
        "#def discrepancia(valor_t, valor_exp):\n",
        "#  print('A discrepância é', abs(valor_t - valor_exp))\n",
        "\n",
        "#discrepancia(632.8e-9, parametros[0])"
      ],
      "execution_count": 6,
      "outputs": [
        {
          "output_type": "stream",
          "text": [
            "y = (38472.810657348644 +- 3223.4098096783305)x +( 296.93768654001724 +- 422.15389167047056)\n"
          ],
          "name": "stdout"
        }
      ]
    },
    {
      "cell_type": "code",
      "metadata": {
        "id": "efc1E6zaO2BW",
        "outputId": "e470d19d-2d39-47dc-edb5-35ffdd397516",
        "colab": {
          "base_uri": "https://localhost:8080/"
        }
      },
      "source": [
        "import numpy as np\n",
        "\n",
        "x = np.array([0.084, 0.120, 0.153])\n",
        "y = np.array([4358.3, 5460.7, 5780.2])\n",
        "\n",
        "def lsq_sq(x, y):  \n",
        "  n = np.size(x)\n",
        "  mx, my = np.mean(x), np.mean(y)\n",
        "\n",
        "  cov = np.mean(x * y) - mx * my\n",
        "  var = np.var(x)\n",
        "\n",
        "  a = cov/var\n",
        "  b = my - a *mx\n",
        "\n",
        "  ey = np.sqrt(np.sum(np.power(y - (a * x + b),2) / (n - 2)))\n",
        "  \n",
        "  erro_a = ey / (np.sqrt(var) * np.sqrt(n))\n",
        "  erro_b = erro_a * np.sqrt(np.mean(np.power(x, 2)))\n",
        "\n",
        "  print(f'y = ({a} +- {erro_a})x +' + f'( {b} +- {erro_b})')\n",
        "  return a, erro_a, b, erro_b\n",
        "\n",
        "parametros = lsq_sq(x, y)\n",
        "\n",
        "#def discrepancia(valor_t, valor_exp):\n",
        "#  print('A discrepância é', abs(valor_t - valor_exp))\n",
        "\n",
        "#discrepancia(632.8e-9, parametros[0])"
      ],
      "execution_count": 7,
      "outputs": [
        {
          "output_type": "stream",
          "text": [
            "y = (20758.60621326607 +- 6029.747320186473)x +( 2729.4591939546713 +- 737.3816432525975)\n"
          ],
          "name": "stdout"
        }
      ]
    },
    {
      "cell_type": "code",
      "metadata": {
        "id": "nKRg_3M5YHml",
        "outputId": "c8017706-a3e0-4824-f2e5-102d729ebc72",
        "colab": {
          "base_uri": "https://localhost:8080/"
        }
      },
      "source": [
        "import numpy as np\n",
        "\n",
        "x = np.array([0.108, 0.111, 0.120, 0.129, 0.146, 0.163, 0.084, 0.120, 0.153])\n",
        "y = np.array([4471, 4713, 4922, 5015, 5876, 6678, 4358.3, 5460.7, 5780.2])\n",
        "\n",
        "def lsq_sq(x, y):  \n",
        "  n = np.size(x)\n",
        "  mx, my = np.mean(x), np.mean(y)\n",
        "\n",
        "  cov = np.mean(x * y) - mx * my\n",
        "  var = np.var(x)\n",
        "\n",
        "  a = cov/var\n",
        "  b = my - a *mx\n",
        "\n",
        "  ey = np.sqrt(np.sum(np.power(y - (a * x + b),2) / (n - 2)))\n",
        "  \n",
        "  erro_a = ey / (np.sqrt(var) * np.sqrt(n))\n",
        "  erro_b = erro_a * np.sqrt(np.mean(np.power(x, 2)))\n",
        "\n",
        "  print(f'y = ({a} +- {erro_a})x +' + f'( {b} +- {erro_b})')\n",
        "  return a, erro_a, b, erro_b\n",
        "\n",
        "parametros = lsq_sq(x, y)\n",
        "\n",
        "#def discrepancia(valor_t, valor_exp):\n",
        "#  print('A discrepância é', abs(valor_t - valor_exp))\n",
        "\n",
        "#discrepancia(632.8e-9, parametros[0])"
      ],
      "execution_count": 8,
      "outputs": [
        {
          "output_type": "stream",
          "text": [
            "y = (28454.333605887387 +- 4352.898634463544)x +( 1667.4428545470782 +- 557.7752668217282)\n"
          ],
          "name": "stdout"
        }
      ]
    },
    {
      "cell_type": "code",
      "metadata": {
        "id": "BpLwis8oaCz_",
        "outputId": "63ee9e98-dad9-44b9-cc48-531e83b7819a",
        "colab": {
          "base_uri": "https://localhost:8080/",
          "height": 284
        }
      },
      "source": [
        "import matplotlib.pyplot as plt\n",
        "\n",
        "x = np.array([0.108, 0.111, 0.120, 0.129, 0.146, 0.163, 0.084, 0.120, 0.153])\n",
        "y = np.array([4471, 4713, 4922, 5015, 5876, 6678, 4358.3, 5460.7, 5780.2])\n",
        "x1 = np.linspace(0.07, 0.18, 1000)\n",
        "y1 = parametros[0]*x1 + parametros[2]\n",
        "\n",
        "plt.plot(x1, y1)\n",
        "plt.scatter(x, y, color = 'red')\n",
        "plt.xlabel(r'sin(${\\Delta} {\\theta}$)', fontsize=12)\n",
        "plt.ylabel('${\\lambda}(nm)$', fontsize=12)\n",
        "plt.grid(True)\n",
        "plt.show()\n",
        "\n"
      ],
      "execution_count": 33,
      "outputs": [
        {
          "output_type": "display_data",
          "data": {
            "image/png": "[encoded data removed]",
            "text/plain": [
              "<Figure size 432x288 with 1 Axes>"
            ]
          },
          "metadata": {
            "tags": [],
            "needs_background": "light"
          }
        }
      ]
    },
    {
      "cell_type": "code",
      "metadata": {
        "id": "Vlup_EL1cMlH"
      },
      "source": [
        "import numpy as np\n",
        "\n",
        "x = np.array([0.139, 0.151, 0.203])\n",
        "y = np.array([4358,3, 5460,7])\n",
        "\n",
        "def lsq_sq(x, y):  \n",
        "  n = np.size(x)\n",
        "  mx, my = np.mean(x), np.mean(y)\n",
        "\n",
        "  cov = np.mean(x * y) - mx * my\n",
        "  var = np.var(x)\n",
        "\n",
        "  a = cov/var\n",
        "  b = my - a *mx\n",
        "\n",
        "  ey = np.sqrt(np.sum(np.power(y - (a * x + b),2) / (n - 2)))\n",
        "  \n",
        "  erro_a = ey / (np.sqrt(var) * np.sqrt(n))\n",
        "  erro_b = erro_a * np.sqrt(np.mean(np.power(x, 2)))\n",
        "\n",
        "  print(f'y = ({a} +- {erro_a})x +' + f'( {b} +- {erro_b})')\n",
        "  return a, erro_a, b, erro_b\n",
        "\n",
        "parametros = lsq_sq(x, y)\n",
        "\n",
        "#def discrepancia(valor_t, valor_exp):\n",
        "#  print('A discrepância é', abs(valor_t - valor_exp))\n",
        "\n",
        "#discrepancia(632.8e-9, parametros[0])"
      ],
      "execution_count": null,
      "outputs": []
    },
    {
      "cell_type": "code",
      "metadata": {
        "id": "1WF9momGy9qD",
        "outputId": "4ac051ae-054b-496c-f8b0-23fca2c26daa",
        "colab": {
          "base_uri": "https://localhost:8080/"
        }
      },
      "source": [
        "import numpy as np\n",
        "\n",
        "delta_theta = np.array([0.139, 0.151, 0.203])\n",
        "estados_quanticos = np.array([6, 4, 3])\n",
        "a = 2845.43\n",
        "b = 166.74\n",
        "y = a * delta_theta + b\n",
        "K = 1/y\n",
        "B = (1/4) - (1/(estados_quanticos**2))\n",
        "\n",
        "print(y)\n",
        "print(K)\n",
        "print(B)"
      ],
      "execution_count": 46,
      "outputs": [
        {
          "output_type": "stream",
          "text": [
            "[562.25477 596.39993 744.36229]\n",
            "[0.00177855 0.00167673 0.00134343]\n",
            "[0.22222222 0.1875     0.13888889]\n",
            "[0.00800349 0.00894255 0.00967271]\n"
          ],
          "name": "stdout"
        }
      ]
    },
    {
      "cell_type": "code",
      "metadata": {
        "id": "3zSUUqLSCDAW",
        "outputId": "4373e5b9-f974-4314-9302-96be4646607b",
        "colab": {
          "base_uri": "https://localhost:8080/"
        }
      },
      "source": [
        "1.09737316 - 1.3999976527398337"
      ],
      "execution_count": 72,
      "outputs": [
        {
          "output_type": "execute_result",
          "data": {
            "text/plain": [
              "-0.3026244927398336"
            ]
          },
          "metadata": {
            "tags": []
          },
          "execution_count": 72
        }
      ]
    },
    {
      "cell_type": "code",
      "metadata": {
        "id": "L6v8Gws0RkZg",
        "outputId": "489b3778-b8d6-4757-8ea9-35702231a92a",
        "colab": {
          "base_uri": "https://localhost:8080/",
          "height": 299
        }
      },
      "source": [
        "import matplotlib.pyplot as plt\n",
        "import numpy as np\n",
        "\n",
        "theta_ref = 351\n",
        "theta = np.array([343.2, 343, 342.5, 342, 341, 340, 344.6, 342.5, 340.6])\n",
        "lambd = np.array([4471, 4713, 4922, 5015, 5876, 6678, 4358.3, 5460.7, 5780.2])\n",
        "\n",
        "\n",
        "def ajuste_linear(x, y):\n",
        "    if np.size(x) != np.size(y):\n",
        "        return\n",
        "\n",
        "    n = np.size(x)\n",
        "    mx, my = np.mean(x), np.mean(y)\n",
        "\n",
        "    cov = np.mean(x*y)-mx*my\n",
        "    var = np.var(x)\n",
        "\n",
        "    a = cov/var\n",
        "    b = my-a*mx\n",
        "\n",
        "    ey = np.sqrt(np.sum((y-(a*x+b))**2)/(n-2))\n",
        "    err_a = ey/(np.sqrt(var)*np.sqrt(n))\n",
        "    err_b = err_a*np.sqrt(np.mean(x**2))\n",
        "\n",
        "    return a, err_a, b, err_b\n",
        "\n",
        "x = np.sin((theta_ref-theta)*np.pi/180)\n",
        "y = lambd\n",
        "plt.scatter(x, y)\n",
        "\n",
        "param = ajuste_linear(x, y)\n",
        "\n",
        "nref = 348\n",
        "ntheta = np.array([340.0, 339.3, 336.3])\n",
        "nthetasin = np.sin((nref-ntheta)*np.pi/180)\n",
        "nlambd = param[0] * nthetasin + param[2]\n",
        "K = 1 / nlambd\n",
        "B = 1/2**2 - 1/np.array([6, 4, 3])**2\n",
        "\n",
        "param2 = ajuste_linear(K, B)\n",
        "print(param2)\n",
        "\n",
        "xj = np.linspace(0.135, 0.19, 2)\n",
        "yj = param[0]*xj + param[2]\n",
        "\n",
        "plt.ylabel(\"$\\lambda (\\AA)$\")\n",
        "plt.xlabel(r\"$\\sin{(\\Delta \\theta)}$\")\n",
        "plt.plot(xj, yj, color=\"red\")\n",
        "\n",
        "plt.show()"
      ],
      "execution_count": 71,
      "outputs": [
        {
          "output_type": "stream",
          "text": [
            "(1399.9976527398337, 271.7080906637177, -0.0737849992162318, 0.05023486208175348)\n"
          ],
          "name": "stdout"
        },
        {
          "output_type": "display_data",
          "data": {
            "image/png": "[encoded data removed]",
            "text/plain": [
              "<Figure size 432x288 with 1 Axes>"
            ]
          },
          "metadata": {
            "tags": [],
            "needs_background": "light"
          }
        }
      ]
    },
    {
      "cell_type": "code",
      "metadata": {
        "id": "jvGd5wqCVVin"
      },
      "source": [
        ""
      ],
      "execution_count": null,
      "outputs": []
    }
  ]
}